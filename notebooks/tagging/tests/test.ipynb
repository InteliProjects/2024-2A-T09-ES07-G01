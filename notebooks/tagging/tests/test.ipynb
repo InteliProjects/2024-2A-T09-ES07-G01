{
 "cells": [
  {
   "cell_type": "markdown",
   "metadata": {},
   "source": [
    "### Importação de Bibliotecas \n",
    "\n",
    "###### Realiza a importação de bibliotecas necessárias para o desenvolvimento dos testes do modelo PLN de tagueamento."
   ]
  },
  {
   "cell_type": "code",
   "execution_count": 1,
   "metadata": {},
   "outputs": [
    {
     "name": "stderr",
     "output_type": "stream",
     "text": [
      "[nltk_data] Downloading package stopwords to\n",
      "[nltk_data]     C:\\Users\\Inteli\\AppData\\Roaming\\nltk_data...\n",
      "[nltk_data]   Package stopwords is already up-to-date!\n",
      "[nltk_data] Downloading package punkt to\n",
      "[nltk_data]     C:\\Users\\Inteli\\AppData\\Roaming\\nltk_data...\n",
      "[nltk_data]   Package punkt is already up-to-date!\n"
     ]
    },
    {
     "data": {
      "text/plain": [
       "True"
      ]
     },
     "execution_count": 1,
     "metadata": {},
     "output_type": "execute_result"
    }
   ],
   "source": [
    "import re\n",
    "import pickle\n",
    "import nltk\n",
    "from PyPDF2 import PdfReader\n",
    "from PyPDF2.errors import PdfReadError  \n",
    "from nltk.corpus import stopwords\n",
    "from nltk.tokenize import word_tokenize\n",
    "import unittest\n",
    "import os\n",
    "import time\n",
    "import matplotlib.pyplot as plt\n",
    "\n",
    "\n",
    "nltk.download('stopwords')\n",
    "nltk.download('punkt')"
   ]
  },
  {
   "cell_type": "markdown",
   "metadata": {},
   "source": [
    "### Extração do Texto do PDF\n",
    "\n",
    "###### Realiza a extração do texto do PDF do arquivo de normas da CVM."
   ]
  },
  {
   "cell_type": "code",
   "execution_count": 2,
   "metadata": {},
   "outputs": [],
   "source": [
    "# Função para extrair texto de um PDF\n",
    "def extract_text_from_pdf(pdf_path):\n",
    "    reader = PdfReader(pdf_path)\n",
    "    text = ''\n",
    "    for page in reader.pages:\n",
    "        text += page.extract_text()\n",
    "    return text"
   ]
  },
  {
   "cell_type": "markdown",
   "metadata": {},
   "source": [
    "### Pré-processamento do texto \n",
    "\n",
    "###### Realiza o pré-processamento do texto do arquivo PDF da CVM, removendo caracteres especiais, espaços em branco e quebras de linha."
   ]
  },
  {
   "cell_type": "code",
   "execution_count": 3,
   "metadata": {},
   "outputs": [],
   "source": [
    "# Função para preprocessar o texto\n",
    "def preprocess_text(text):\n",
    "    text = text.lower()\n",
    "    text = re.sub(r'[^\\w\\s]', '', text)\n",
    "    tokens = word_tokenize(text)\n",
    "    tokens = [word for word in tokens if word not in stopwords.words('portuguese')]\n",
    "    return ' '.join(tokens)\n"
   ]
  },
  {
   "cell_type": "markdown",
   "metadata": {},
   "source": [
    "### Carregamento do modelo\n",
    "\n",
    "###### Realiza o carregamento do modelo de PLN de tagueamento."
   ]
  },
  {
   "cell_type": "code",
   "execution_count": 14,
   "metadata": {},
   "outputs": [],
   "source": [
    "\n",
    "def carrega_modelo():\n",
    "    \n",
    "    # Caminhos dos arquivos\n",
    "    model_path = '../model/model.pkl'\n",
    "    vectorizer_path = '../model/vectorizer.pkl'\n",
    "    mbl_path = '../model/mlb.pkl'\n",
    "\n",
    "    # Verifica se os arquivos existem\n",
    "    if not os.path.exists(model_path):\n",
    "        raise FileNotFoundError(f'File {model_path} not found')\n",
    "\n",
    "    if not os.path.exists(vectorizer_path):\n",
    "        raise FileNotFoundError(f'File {vectorizer_path} not found')\n",
    "\n",
    "    if not os.path.exists(mbl_path):\n",
    "        raise FileNotFoundError(f'File {mbl_path} not found')\n",
    "\n",
    "\n",
    "    # Carrega o modelo, vetorizador e classes\n",
    "    with open(model_path, 'rb') as model_file:\n",
    "        model = pickle.load(model_file)\n",
    "\n",
    "    with open(vectorizer_path, 'rb') as vectorizer_file:\n",
    "        vectorizer = pickle.load(vectorizer_file)\n",
    "\n",
    "    with open(mbl_path, 'rb') as mlb_file:\n",
    "        mlb_classes = pickle.load(mlb_file)\n",
    "\n",
    "    return model, vectorizer, mlb_classes"
   ]
  },
  {
   "cell_type": "markdown",
   "metadata": {},
   "source": [
    "### Configuração do Unittest\n",
    "\n",
    "###### Realiza a configuração do Unittest para execução dos testes do modelo de PLN de tagueamento."
   ]
  },
  {
   "cell_type": "code",
   "execution_count": 23,
   "metadata": {},
   "outputs": [],
   "source": [
    "# Função para configurar o TestRunner para um teste específico\n",
    "def run_specific_test(clase_teste, nome_teste=None):\n",
    "  loader = unittest.TestLoader()\n",
    "  if nome_teste:\n",
    "    # Carregar teste específico\n",
    "    suite = loader.loadTestsFromName(f'{clase_teste.__name__}.{nome_teste}', clase_teste)\n",
    "  else:\n",
    "    # Carregar todos os testes da classe\n",
    "    suite = loader.loadTestsFromTestCase(clase_teste)\n",
    "\n",
    "  runner = unittest.TextTestRunner(verbosity=2)\n",
    "  runner.run(suite)\n"
   ]
  },
  {
   "cell_type": "markdown",
   "metadata": {},
   "source": [
    "### Teste 1 - Extração de Texto de PDF"
   ]
  },
  {
   "cell_type": "code",
   "execution_count": 24,
   "metadata": {},
   "outputs": [
    {
     "name": "stderr",
     "output_type": "stream",
     "text": [
      "teste_extracao_texto_pdf (__main__.TesteExtracaoDeTextoPDF.teste_extracao_texto_pdf) ... ok\n",
      "\n",
      "----------------------------------------------------------------------\n",
      "Ran 1 test in 0.128s\n",
      "\n",
      "OK\n"
     ]
    }
   ],
   "source": [
    "class TesteExtracaoDeTextoPDF(unittest.TestCase):\n",
    "\n",
    "    # Configuração inicial\n",
    "    def setUp(self):\n",
    "        self.pdf_path = r\"C:\\Users\\Inteli\\Downloads\\oc-sep-0522.pdf\"\n",
    "        self.expected_text = \"\"\"COMISSÃO DE VALORES MOBILIÁRIOS Rua Sete de Setembro, 111/2-5º e 23-34º Andares, Centro, Rio de Janeiro/RJ – CEP: 20050-901 – Brasil - Tel.: (21) 3554-8686 Rua Cincinato Braga, 340/2º, 3º e 4º Andares, Bela Vista, São Paulo/ SP – CEP: 01333-010 – Brasil - Tel.: (11) 2146- 2000 SCN Q.02 – Bl. A – Ed. Corporate Financial Center, S.404/4º Andar, Brasília/DF – CEP: 70712-900 – Brasil -Tel.: (61) 3327-2030/2031 www.cvm.gov.br Ofício Circular nº 5/2022-CVM/SEP Rio de Janeiro, 23 de novembro 2022. Assunto: Relato Integrado - Resolução CVM n° 14/20. Senhor Diretor de Relações com Investidores/Representante Legal, 1 . O presente Ofício Circular tem como objetivo informar às companhias abertas e estrangeiras sobre a criação de uma categoria especíﬁca no Sistema Empresas.NET (E-NET) para envio do Relato Integrado previsto na Resolução CVM n° 14/20. 2 . A Resolução CVM n° 14/20 tornou obrigatória para as companhias abertas, quando da decisão de elaboração e divulgação do Relato Integrado, a Orientação CPC 09 – Relato Integrado, emitida pelo Comitê de Pronunciamentos Contábeis - CPC (Correlação à Estrutura Conceitual Básica do Relato Integrado, elaborada pelo Internacional Integrated Reporting Council - IIRC) e determinou que o Relato Integrado deve ser objeto de asseguração limitada por auditor independente registrado na CVM. 3 . As Companhias vêm utilizando outras categorias já existentes no E-NET para envio do Relato Integrado, como, por exemplo, a categoria \"Relatório de Sustentabilidade\". 4 . A partir desta data, o Relato Integrado previsto na referida Resolução deverá ser encaminhado por meio da categoria “Relato Integrado”. 5 . Por sua vez, outros relatórios ou documentos especíﬁcos relacionados às questões ASG, podem continuar a ser divulgados como anteriormente. 6 . Importa salientar, ainda, que, no âmbito do Relato Integrado, a companhia deve deixar claro ao usuário da informação (i) que o documento segue a estrutura conceitual prevista na Orientação CPC 09 e (ii) que isso está compreendido no escopo dos trabalhos de asseguração limitada pelo auditor independente registrado na CVM. 7 . Informamos que dúvidas referentes à instalação, utilização e Ofício-Circular 5 (1651789) SEI 19957.014264/2022-93 / pg. 1funcionamento do Sistema Empresas.NET, assim como o relato de problemas ou diﬁculdades no envio de documentos, devem ser encaminhadas para a Superintendência de Emissores da B3. 8 . O contato com a Superintendência de Emissores pode ser feito pelo telefone (11) 2565-5063 ou por e-mail: emissores.empresas@b3.com.br: a ) Atendimento Normal: nos dias úteis, das 8h às 20h, pelo e-mail ou pelo telefone. b ) Plantão de Atendimento: nos dias úteis, após às 20h ou em finais de semana e feriados, exclusivamente por meio do e-mail. 9 . As questões recebidas após às 20h dos dias úteis e em ﬁnais de semana e feriados serão tratadas após às 8h do dia útil seguinte, exceto as relacionadas à disponibilidade do sistema para o recebimento de informações, as quais serão tratadas imediatamente. Atenciosamente, FERNANDO SOARES VIEIRA Superintendente de Relações com Empresas Documento assinado eletronicamente por Fernando Soares Vieira , Superintendente , em 23/11/2022, às 12:37, com fundamento no art. 6º do Decreto nº 8.539, de 8 de outubro de 2015. A autenticidade do documento pode ser conferida no site https://super.cvm.gov.br/conferir_autenticidade , informando o código verificador 1651789 e o código CRC AAF68AC0 . This document's authenticity can be verified by accessing https://super.cvm.gov.br/conferir_autenticidade , and typing the \"Código Verificador\" 1651789 and the \"Código CRC\" AAF68AC0 . Referência: Processo nº 19957.014264/2022-93 Documento SEI nº 1651789 Ofício-Circular 5 (1651789) SEI 19957.014264/2022-93 / pg. 2\"\"\"\n",
    "        self.maxDiff = None\n",
    "\n",
    "    # Função para formatar o texto esperado pelo teste\n",
    "    def formatar_texto(self, texto):\n",
    "        texto = re.sub(r'\\s+', ' ', texto).strip()  \n",
    "        return texto\n",
    "\n",
    "    # Teste para verificar se o texto extraído do PDF corresponde ao esperado\n",
    "    def teste_extracao_texto_pdf(self):\n",
    "        try:\n",
    "            texto_extraido = extract_text_from_pdf(self.pdf_path)\n",
    "            texto_formatado = self.formatar_texto(texto_extraido)\n",
    "            texto_esperado_formatado = self.formatar_texto(self.expected_text)\n",
    "\n",
    "            self.assertEqual(texto_formatado, texto_esperado_formatado, \"O texto extraído não corresponde ao esperado.\")\n",
    "        except FileNotFoundError:\n",
    "            self.fail(f\"Arquivo PDF não encontrado: {self.pdf_path}\")\n",
    "        except Exception as e:\n",
    "            self.fail(f\"Erro inesperado durante o teste: {str(e)}\")\n",
    "\n",
    "run_specific_test(TesteExtracaoDeTextoPDF)\n"
   ]
  },
  {
   "cell_type": "markdown",
   "metadata": {},
   "source": [
    "### Teste 2 - Extração de um PDF Inválido"
   ]
  },
  {
   "cell_type": "code",
   "execution_count": 25,
   "metadata": {},
   "outputs": [
    {
     "name": "stderr",
     "output_type": "stream",
     "text": [
      "teste_extracao_texto_pdf_invalido (__main__.TesteExtracaoDeTextoPDF.teste_extracao_texto_pdf_invalido) ... ok\n",
      "\n",
      "----------------------------------------------------------------------\n",
      "Ran 1 test in 0.004s\n",
      "\n",
      "OK\n"
     ]
    }
   ],
   "source": [
    "class TesteExtracaoDeTextoPDF(unittest.TestCase):\n",
    "\n",
    "    # Configuração inicial\n",
    "    def setUp(self):\n",
    "        self.invalid_pdf_path = r\"C:\\Users\\Inteli\\Downloads\\pdf_corrompido.pdf\"\n",
    "\n",
    "    # Função para testar o comportamento ao extrair texto de um PDF inválido\n",
    "    def teste_extracao_texto_pdf_invalido(self):\n",
    "        try:\n",
    "            texto_extraido = extract_text_from_pdf(self.invalid_pdf_path)\n",
    "\n",
    "            # Se a função não gerar exceção e retornar None, o teste deve passar\n",
    "            self.assertIsNone(texto_extraido, \"A função deve retornar None para um PDF corrompido ou ilegível.\")\n",
    "        except PdfReadError:\n",
    "\n",
    "            # Se a função gerar uma exceção específica de PDF inválido, o teste deve passar\n",
    "            pass\n",
    "        except Exception as e:\n",
    "            self.fail(f\"A função gerou uma exceção inesperada: {e}\")\n",
    "\n",
    "run_specific_test(TesteExtracaoDeTextoPDF)"
   ]
  },
  {
   "cell_type": "markdown",
   "metadata": {},
   "source": [
    "### Teste 3 - Pré-processamento do Texto"
   ]
  },
  {
   "cell_type": "code",
   "execution_count": 26,
   "metadata": {},
   "outputs": [
    {
     "name": "stderr",
     "output_type": "stream",
     "text": [
      "teste_preprocessamento_texto (__main__.TestePreProcessamentoDeTexto.teste_preprocessamento_texto) ... ok\n",
      "\n",
      "----------------------------------------------------------------------\n",
      "Ran 1 test in 0.111s\n",
      "\n",
      "OK\n"
     ]
    },
    {
     "name": "stdout",
     "output_type": "stream",
     "text": [
      "Texto processado: comissão valores mobiliários rua sete setembro 11125º 2334º andares centro rio janeirorj cep 20050901 brasil tel 21 35548686 rua cincinato braga 3402º 3º 4º andares bela vista paulo sp cep 01333010 brasil tel 11 2146 2000 scn q02 bl ed corporate financial center s4044º andar brasíliadf cep 70712900 brasil tel 61 332720302031 wwwcvmgovbr ofício circular nº 52022cvmsep rio janeiro 23 novembro 2022 assunto relato integrado resolução cvm n 1420 senhor diretor relações investidoresrepresentante legal 1 presente ofício circular objetivo informar companhias abertas estrangeiras sobre criação categoria especíﬁca sistema empresasnet enet envio relato integrado previsto resolução cvm n 1420 2 resolução cvm n 1420 tornou obrigatória companhias abertas decisão elaboração divulgação relato integrado orientação cpc 09 relato integrado emitida comitê pronunciamentos contábeis cpc correlação estrutura conceitual básica relato integrado elaborada internacional integrated reporting council iirc determinou relato integrado deve objeto asseguração limitada auditor independente registrado cvm 3 companhias vêm utilizando outras categorias existentes enet envio relato integrado exemplo categoria relatório sustentabilidade 4\n",
      "Texto esperado: comissão valores mobiliários rua sete setembro 11125º 2334º andares centro rio janeirorj cep 20050901 brasil tel 21 35548686 rua cincinato braga 3402º 3º 4º andares bela vista paulo sp cep 01333010 brasil tel 11 2146 2000 scn q02 bl ed corporate financial center s4044º andar brasíliadf cep 70712900 brasil tel 61 332720302031 wwwcvmgovbr ofício circular nº 52022cvmsep rio janeiro 23 novembro 2022 assunto relato integrado resolução cvm n 1420 senhor diretor relações investidoresrepresentante legal 1 presente ofício circular objetivo informar companhias abertas estrangeiras sobre criação categoria especíﬁca sistema empresasnet enet envio relato integrado previsto resolução cvm n 1420 2 resolução cvm n 1420 tornou obrigatória companhias abertas decisão elaboração divulgação relato integrado orientação cpc 09 relato integrado emitida comitê pronunciamentos contábeis cpc correlação estrutura conceitual básica relato integrado elaborada internacional integrated reporting council iirc determinou relato integrado deve objeto asseguração limitada auditor independente registrado cvm 3 companhias vêm utilizando outras categorias existentes enet envio relato integrado exemplo categoria relatório sustentabilidade 4\n"
     ]
    }
   ],
   "source": [
    "class TestePreProcessamentoDeTexto(unittest.TestCase):\n",
    "\n",
    "  # Configuração inicial\n",
    "  def setUp(self):\n",
    "    self.texto_sem_formatacao = \"\"\"COMISSÃO DE VALORES MOBILIÁRIOS Rua Sete de Setembro, 111/2-5º e 23-34º Andares, Centro, Rio de Janeiro/RJ – CEP: 20050-901 – Brasil - Tel.: (21) 3554-8686 Rua Cincinato Braga, 340/2º, 3º e 4º Andares, Bela Vista, São Paulo/ SP – CEP: 01333-010 – Brasil - Tel.: (11) 2146- 2000 SCN Q.02 – Bl. A – Ed. Corporate Financial Center, S.404/4º Andar, Brasília/DF – CEP: 70712-900 – Brasil -Tel.: (61) 3327-2030/2031 www.cvm.gov.br Ofício Circular nº 5/2022-CVM/SEP Rio de Janeiro, 23 de novembro 2022. Assunto: Relato Integrado - Resolução CVM n° 14/20. Senhor Diretor de Relações com Investidores/Representante Legal, 1 . O presente Ofício Circular tem como objetivo informar às companhias abertas e estrangeiras sobre a criação de uma categoria especíﬁca no Sistema Empresas.NET (E-NET) para envio do Relato Integrado previsto na Resolução CVM n° 14/20. 2 . A Resolução CVM n° 14/20 tornou obrigatória para as companhias abertas, quando da decisão de elaboração e divulgação do Relato Integrado, a Orientação CPC 09 – Relato Integrado, emitida pelo Comitê de Pronunciamentos Contábeis - CPC (Correlação à Estrutura Conceitual Básica do Relato Integrado, elaborada pelo Internacional Integrated Reporting Council - IIRC) e determinou que o Relato Integrado deve ser objeto de asseguração limitada por auditor independente registrado na CVM. 3 . As Companhias vêm utilizando outras categorias já existentes no E-NET para envio do Relato Integrado, como, por exemplo, a categoria \"Relatório de Sustentabilidade\". 4 .\"\"\"\n",
    "    self.texto_esperado = \"comissão valores mobiliários rua sete setembro 11125º 2334º andares centro rio janeirorj cep 20050901 brasil tel 21 35548686 rua cincinato braga 3402º 3º 4º andares bela vista paulo sp cep 01333010 brasil tel 11 2146 2000 scn q02 bl ed corporate financial center s4044º andar brasíliadf cep 70712900 brasil tel 61 332720302031 wwwcvmgovbr ofício circular nº 52022cvmsep rio janeiro 23 novembro 2022 assunto relato integrado resolução cvm n 1420 senhor diretor relações investidoresrepresentante legal 1 presente ofício circular objetivo informar companhias abertas estrangeiras sobre criação categoria especíﬁca sistema empresasnet enet envio relato integrado previsto resolução cvm n 1420 2 resolução cvm n 1420 tornou obrigatória companhias abertas decisão elaboração divulgação relato integrado orientação cpc 09 relato integrado emitida comitê pronunciamentos contábeis cpc correlação estrutura conceitual básica relato integrado elaborada internacional integrated reporting council iirc determinou relato integrado deve objeto asseguração limitada auditor independente registrado cvm 3 companhias vêm utilizando outras categorias existentes enet envio relato integrado exemplo categoria relatório sustentabilidade 4\"\n",
    "    self.maxDiff = None\n",
    "\n",
    "  # Teste para verificar se o texto extraído do PDF corresponde ao esperado\n",
    "  def teste_preprocessamento_texto(self):\n",
    "    try:\n",
    "      texto_processado = preprocess_text(self.texto_sem_formatacao)\n",
    "\n",
    "      # Verifica se o texto processado corresponde ao esperado\n",
    "      self.assertEqual(texto_processado, self.texto_esperado, \"O texto processado não corresponde ao esperado.\")\n",
    "\n",
    "      # Demonstra o texto processado e o esperado\n",
    "      print(f\"Texto processado: {texto_processado}\")\n",
    "      print(f\"Texto esperado: {self.texto_esperado}\")\n",
    "\n",
    "    except Exception as e:\n",
    "      self.fail(f\"Erro inesperado durante o teste: {str(e)}\")\n",
    "\n",
    "run_specific_test(TestePreProcessamentoDeTexto)\n"
   ]
  },
  {
   "cell_type": "markdown",
   "metadata": {},
   "source": [
    "### Teste 4 - Vetorização do Texto"
   ]
  },
  {
   "cell_type": "code",
   "execution_count": 27,
   "metadata": {},
   "outputs": [
    {
     "name": "stderr",
     "output_type": "stream",
     "text": [
      "teste_vetorizacao_texto (__main__.TesteVetorizacaoTextoModeloCarregado.teste_vetorizacao_texto) ... ok\n",
      "\n",
      "----------------------------------------------------------------------\n",
      "Ran 1 test in 0.023s\n",
      "\n",
      "OK\n"
     ]
    },
    {
     "name": "stdout",
     "output_type": "stream",
     "text": [
      "  (0, 14158)\t0.0288215545803746\n",
      "  (0, 14145)\t0.06675408215581298\n",
      "  (0, 14082)\t0.027264960447531565\n",
      "  (0, 13891)\t0.021971976269815407\n",
      "  (0, 13854)\t0.07932903259309272\n",
      "  (0, 13542)\t0.09025749913463893\n",
      "  (0, 13377)\t0.065042701784314\n",
      "  (0, 13288)\t0.07542849405210107\n",
      "  (0, 13001)\t0.029644491887052985\n",
      "  (0, 12929)\t0.027643620458171377\n",
      "  (0, 12891)\t0.03139188980052903\n",
      "  (0, 12806)\t0.021680900594771332\n",
      "  (0, 12805)\t0.021680900594771332\n",
      "  (0, 12738)\t0.045770483887025336\n",
      "  (0, 12645)\t0.029644491887052985\n",
      "  (0, 12596)\t0.029644491887052985\n",
      "  (0, 12577)\t0.043361801189542665\n",
      "  (0, 12457)\t0.043361801189542665\n",
      "  (0, 12224)\t0.07336557961546043\n",
      "  (0, 12126)\t0.09025749913463893\n",
      "  (0, 12031)\t0.04763198197546234\n",
      "  (0, 12025)\t0.05444489578331342\n",
      "  (0, 12020)\t0.42419642278694236\n",
      "  (0, 11917)\t0.05314790886587893\n",
      "  (0, 11468)\t0.029644491887052985\n",
      "  :\t:\n",
      "  (0, 2914)\t0.0605994889695632\n",
      "  (0, 2759)\t0.02478688561823769\n",
      "  (0, 2689)\t0.07932903259309272\n",
      "  (0, 2352)\t0.043361801189542665\n",
      "  (0, 2351)\t0.029644491887052985\n",
      "  (0, 1720)\t0.10629581773175786\n",
      "  (0, 1506)\t0.03379821364442116\n",
      "  (0, 1445)\t0.028421660094449165\n",
      "  (0, 1370)\t0.027264960447531565\n",
      "  (0, 1259)\t0.026527172435722085\n",
      "  (0, 1228)\t0.03185198779338264\n",
      "  (0, 1204)\t0.029644491887052985\n",
      "  (0, 1190)\t0.035383659746699686\n",
      "  (0, 973)\t0.024455193205153478\n",
      "  (0, 961)\t0.035383659746699686\n",
      "  (0, 907)\t0.04029511384684757\n",
      "  (0, 890)\t0.021680900594771332\n",
      "  (0, 860)\t0.04862721872695903\n",
      "  (0, 822)\t0.027264960447531565\n",
      "  (0, 813)\t0.039615890700775556\n",
      "  (0, 529)\t0.2707724974039168\n",
      "  (0, 344)\t0.035383659746699686\n",
      "  (0, 334)\t0.025466108764309704\n",
      "  (0, 177)\t0.08410290594838915\n",
      "  (0, 60)\t0.03379821364442116\n"
     ]
    }
   ],
   "source": [
    "class TesteVetorizacaoTextoModeloCarregado(unittest.TestCase):\n",
    "\n",
    "    # Configuração inicial\n",
    "    def setUp(self):\n",
    "        try:\n",
    "            # Carregar o vetor TF-IDF, a partir do modelo salvo\n",
    "            self.vectorizer = carrega_modelo()[1]\n",
    "            \n",
    "            self.processed_text = \"comissão valores mobiliários rua sete setembro 11125º 2334º andares centro rio janeirorj cep 20050901 brasil tel 21 35548686 rua cincinato braga 3402º 3º 4º andares bela vista paulo sp cep 01333010 brasil tel 11 2146 2000 scn q02 bl ed corporate financial center s4044º andar brasíliadf cep 70712900 brasil tel 61 332720302031 wwwcvmgovbr ofício circular nº 52022cvmsep rio janeiro 23 novembro 2022 assunto relato integrado resolução cvm n 1420 senhor diretor relações investidoresrepresentante legal 1 presente ofício circular objetivo informar companhias abertas estrangeiras sobre criação categoria especíﬁca sistema empresasnet enet envio relato integrado previsto resolução cvm n 1420 2 resolução cvm n 1420 tornou obrigatória companhias abertas decisão elaboração divulgação relato integrado orientação cpc 09 relato integrado emitida comitê pronunciamentos contábeis cpc correlação estrutura conceitual básica relato integrado elaborada internacional integrated reporting council iirc determinou relato integrado deve objeto asseguração limitada auditor independente registrado cvm 3 companhias vêm utilizando outras categorias existentes enet envio relato integrado exemplo categoria relatório sustentabilidade 4\"\n",
    "        except FileNotFoundError:\n",
    "            self.fail(\"Arquivo vectorizer.pkl não encontrado.\")\n",
    "        except Exception as e:\n",
    "            self.fail(f\"Erro ao carregar o modelo: {str(e)}\")\n",
    "\n",
    "    # Teste para verificar a vetorização do texto\n",
    "    def teste_vetorizacao_texto(self):\n",
    "        try:\n",
    "            X_new = self.vectorizer.transform([self.processed_text])\n",
    "\n",
    "            # Demonstra o vetor TF-IDF gerado\n",
    "            print(X_new)\n",
    "\n",
    "            # Verifica se o vetor gerado não está vazio\n",
    "            self.assertGreater(X_new.nnz, 0, \"O vetor TF-IDF gerado está vazio, mas não deveria.\")\n",
    "        except Exception as e:\n",
    "            self.fail(f\"Erro durante a vetorização do texto: {str(e)}\")\n",
    "\n",
    "run_specific_test(TesteVetorizacaoTextoModeloCarregado)\n"
   ]
  },
  {
   "cell_type": "markdown",
   "metadata": {},
   "source": [
    "### Teste 5 - Previsão de Tags "
   ]
  },
  {
   "cell_type": "code",
   "execution_count": 28,
   "metadata": {},
   "outputs": [
    {
     "name": "stderr",
     "output_type": "stream",
     "text": [
      "teste_previsao_tags (__main__.TestePrevisaoTagsModeloCarregado.teste_previsao_tags) ... "
     ]
    },
    {
     "data": {
      "image/png": "[encoded data removed]",
      "text/plain": [
       "<Figure size 800x640 with 1 Axes>"
      ]
     },
     "metadata": {},
     "output_type": "display_data"
    },
    {
     "name": "stderr",
     "output_type": "stream",
     "text": [
      "ok\n",
      "\n",
      "----------------------------------------------------------------------\n",
      "Ran 1 test in 0.669s\n",
      "\n",
      "OK\n"
     ]
    }
   ],
   "source": [
    "class TestePrevisaoTagsModeloCarregado(unittest.TestCase):\n",
    "\n",
    "    # Configuração inicial\n",
    "    def setUp(self):\n",
    "        try:\n",
    "            self.pdf_path = r\"C:\\Users\\Inteli\\Downloads\\oc-sep-0522.pdf\"\n",
    "\n",
    "            # Carregar o modelo, o vetor TF-IDF e o binarizador de tags\n",
    "            self.model, self.vectorizer, self.mlb_classes = carrega_modelo()\n",
    "\n",
    "            # Tags reais associadas ao documento\n",
    "            self.real_tags = [\"Companhia\", \"Ofício Circular\"]\n",
    "\n",
    "        except FileNotFoundError as e:\n",
    "            self.fail(f\"Arquivo necessário não encontrado: {e.filename}\")\n",
    "        except Exception as e:\n",
    "            self.fail(f\"Erro ao carregar arquivos: {str(e)}\")\n",
    "\n",
    "    # Teste para verificar a previsão de tags\n",
    "    def teste_previsao_tags(self):\n",
    "        try:\n",
    "            raw_text = extract_text_from_pdf(self.pdf_path)\n",
    "            processed_text = preprocess_text(raw_text)\n",
    "\n",
    "            # Vetorizar o texto\n",
    "            X_new = self.vectorizer.transform([processed_text])\n",
    "\n",
    "            # Fazer a predição\n",
    "            y_pred = self.model.predict(X_new)\n",
    "\n",
    "            # Converter a predição em tags\n",
    "            predicted_tags = [self.mlb_classes[i] for i in range(len(self.mlb_classes)) if y_pred[0, i] == 1]\n",
    "\n",
    "            # Verifica se há pelo menos uma tag real nas tags previstas\n",
    "            tags_reais_presentes = set(predicted_tags).intersection(set(self.real_tags))\n",
    "            self.assertGreater(len(tags_reais_presentes), 0, \"Nenhuma das tags reais foi encontrada nas tags previstas pelo modelo.\")\n",
    "\n",
    "            # Gerar o gráfico de comparação de tags reais e previstas\n",
    "            self.plot_tag_comparison(self.real_tags, predicted_tags)\n",
    "\n",
    "        except FileNotFoundError:\n",
    "            self.fail(f\"Arquivo PDF não encontrado: {self.pdf_path}\")\n",
    "        except Exception as e:\n",
    "            self.fail(f\"Erro durante o teste de previsão de tags: {str(e)}\")\n",
    "\n",
    "    # Função para plotar o gráfico de comparação de tags reais e previstas\n",
    "    def plot_tag_comparison(self, real_tags, predicted_tags):\n",
    "        try:\n",
    "            # Preparar dados para o gráfico\n",
    "            all_tags = list(set(real_tags + predicted_tags))\n",
    "            real_count = [1 if tag in real_tags else 0 for tag in all_tags]\n",
    "            predicted_count = [1 if tag in predicted_tags else 0 for tag in all_tags]\n",
    "\n",
    "            # Criar gráfico de barras horizontais\n",
    "            fig, ax = plt.subplots(figsize=(8, len(all_tags) * 0.4)) \n",
    "            bar_width = 0.35\n",
    "            index = range(len(all_tags))\n",
    "\n",
    "            ax.barh(index, real_count, bar_width, label='Real Tags', color='blue')\n",
    "            ax.barh([i + bar_width for i in index], predicted_count, bar_width, label='Predicted Tags', color='green')\n",
    "\n",
    "            ax.set_ylabel('Tags')\n",
    "            ax.set_xlabel('Count')\n",
    "            ax.set_title('Real vs Predicted Tags')\n",
    "            ax.set_yticks([i + bar_width / 2 for i in index])\n",
    "            ax.set_yticklabels(all_tags)\n",
    "            ax.legend()\n",
    "\n",
    "            plt.tight_layout()\n",
    "            plt.show()\n",
    "\n",
    "        except Exception as e:\n",
    "            self.fail(f\"Erro ao plotar o gráfico de comparação de tags: {str(e)}\")\n",
    "\n",
    "run_specific_test(TestePrevisaoTagsModeloCarregado)"
   ]
  },
  {
   "cell_type": "markdown",
   "metadata": {},
   "source": [
    "### Teste 6 - Carregamento do Modelo"
   ]
  },
  {
   "cell_type": "code",
   "execution_count": 34,
   "metadata": {},
   "outputs": [
    {
     "name": "stderr",
     "output_type": "stream",
     "text": [
      "teste_carregamento_modelo (__main__.TestCarregamentoModelo.teste_carregamento_modelo) ... ok\n",
      "\n",
      "----------------------------------------------------------------------\n",
      "Ran 1 test in 0.022s\n",
      "\n",
      "OK\n"
     ]
    }
   ],
   "source": [
    "class TestCarregamentoModelo(unittest.TestCase):\n",
    "\n",
    "  # Configuração inicial\n",
    "  def setUp(self):\n",
    "    self.model_path = 'model.pkl'\n",
    "    self.vectorizer_path = 'vectorizer.pkl'\n",
    "    self.mlb_path = 'mlb.pkl'\n",
    "\n",
    "  # Teste para verificar o carregamento do modelo\n",
    "  def teste_carregamento_modelo(self):\n",
    "    try:\n",
    "      # Carregar o modelo, o vetor TF-IDF e o binarizador de tags\n",
    "      model, vectorizer, mlb_classes = carrega_modelo()\n",
    "\n",
    "      # Verificar se os objetos carregados são válidos\n",
    "      self.assertIsNotNone(model, \"O modelo PLN não foi carregado corretamente.\")\n",
    "      self.assertIsNotNone(vectorizer, \"O vetor TF-IDF não foi carregado corretamente.\")\n",
    "      self.assertIsNotNone(mlb_classes, \"O binarizador de tags não foi carregado corretamente.\")\n",
    "    \n",
    "    except Exception as e:\n",
    "      self.fail(f\"O carregamento do modelo, vetor ou binarizador de tags falhou com o erro: {e}\")\n",
    "\n",
    "run_specific_test(TestCarregamentoModelo)"
   ]
  },
  {
   "cell_type": "markdown",
   "metadata": {},
   "source": [
    "### Teste 7 - Robustez de Arquivo de Modelo"
   ]
  },
  {
   "cell_type": "code",
   "execution_count": 30,
   "metadata": {},
   "outputs": [
    {
     "name": "stderr",
     "output_type": "stream",
     "text": [
      "teste_robustez_arquivo_modelo (__main__.TestRobustezArquivoModelo.teste_robustez_arquivo_modelo) ... ok\n",
      "\n",
      "----------------------------------------------------------------------\n",
      "Ran 1 test in 0.002s\n",
      "\n",
      "OK\n"
     ]
    }
   ],
   "source": [
    "class TestRobustezArquivoModelo(unittest.TestCase):\n",
    "\n",
    "  # Configuração inicial\n",
    "  def setUp(self):\n",
    "    self.model_path = 'model_corrupted.pkl'\n",
    "    self.vectorizer_path = 'vectorizer_corrupted.pkl'\n",
    "    self.mlb_path = 'mlb_corrupted.pkl'\n",
    "\n",
    "  # Teste para verificar a robustez no carregamento de arquivos corrompidos\n",
    "  def teste_robustez_arquivo_modelo(self):\n",
    "    for file_path in [self.model_path, self.vectorizer_path, self.mlb_path]:\n",
    "      try:\n",
    "        with self.assertRaises(Exception) as context:\n",
    "          with open(file_path, 'rb') as f:\n",
    "            _ = pickle.load(f)\n",
    "\n",
    "        # Verifica se a exceção gerada contém uma mensagem clara\n",
    "        self.assertTrue('failed' in str(context.exception).lower() or\n",
    "                        'error' in str(context.exception).lower() or\n",
    "                        'corrupt' in str(context.exception).lower(),\n",
    "                        f\"O carregamento de {file_path} não falhou de maneira controlada. Mensagem de erro: {context.exception}\")\n",
    "      except FileNotFoundError:\n",
    "        self.fail(f\"Arquivo não encontrado: {file_path}\")\n",
    "      except Exception as e:\n",
    "        self.fail(f\"Erro inesperado durante o teste de robustez com o arquivo {file_path}: {str(e)}\")\n",
    "\n",
    "run_specific_test(TestRobustezArquivoModelo)"
   ]
  },
  {
   "cell_type": "markdown",
   "metadata": {},
   "source": [
    "### Teste 8 - Verificação de Desempenho em Processamento em Massa"
   ]
  },
  {
   "cell_type": "code",
   "execution_count": 31,
   "metadata": {},
   "outputs": [
    {
     "name": "stderr",
     "output_type": "stream",
     "text": [
      "teste_processamento_em_massa (__main__.TesteDesempenhoDeProcessamentoEmMassa.teste_processamento_em_massa) ... ok\n",
      "\n",
      "----------------------------------------------------------------------\n",
      "Ran 1 test in 278.030s\n",
      "\n",
      "OK\n"
     ]
    },
    {
     "name": "stdout",
     "output_type": "stream",
     "text": [
      "Tempo total de processamento: 278.01 segundos\n"
     ]
    }
   ],
   "source": [
    "class TesteDesempenhoDeProcessamentoEmMassa(unittest.TestCase):\n",
    "\n",
    "  # Configuração inicial\n",
    "  def setUp(self):\n",
    "    try:\n",
    "      self.pasta_pdf = r\"C:\\Users\\Inteli\\Downloads\\pdfs\"\n",
    "\n",
    "      # Carregar o modelo, o vetor TF-IDF e o binarizador de tags\n",
    "      self.model, self.vectorizer, self.mlb_classes = carrega_modelo()\n",
    "\n",
    "    except FileNotFoundError as e:\n",
    "      self.fail(f\"Arquivo necessário não encontrado: {e.filename}\")\n",
    "    except Exception as e:\n",
    "      self.fail(f\"Erro ao carregar arquivos: {str(e)}\")\n",
    "\n",
    "  # Teste para verificar o desempenho do processamento em massa\n",
    "  def teste_processamento_em_massa(self):\n",
    "    try:\n",
    "      # Iniciar o cronômetro\n",
    "      inicio_tempo = time.time()\n",
    "\n",
    "      # Iterar sobre todos os arquivos na pasta\n",
    "      for arquivo in os.listdir(self.pasta_pdf):\n",
    "        if arquivo.endswith('.pdf'):\n",
    "          caminho_arquivo = os.path.join(self.pasta_pdf, arquivo)\n",
    "\n",
    "          # Extrair e preprocessar o texto\n",
    "          raw_text = extract_text_from_pdf(caminho_arquivo)\n",
    "          processed_text = preprocess_text(raw_text)\n",
    "\n",
    "          # Vetorizar o texto\n",
    "          X_new = self.vectorizer.transform([processed_text])\n",
    "          y_pred = self.model.predict(X_new)\n",
    "          predicted_tags = [self.mlb_classes[i] for i in range(len(self.mlb_classes)) if y_pred[0, i] == 1]\n",
    "\n",
    "          # Verificar se pelo menos uma tag foi prevista\n",
    "          self.assertGreater(len(predicted_tags), 0, f\"Não foram encontradas tags previstas para o arquivo {arquivo}.\")\n",
    "\n",
    "      fim_tempo = time.time()\n",
    "      tempo_total = fim_tempo - inicio_tempo\n",
    "\n",
    "      # Verificar se o tempo total de processamento está dentro do limite\n",
    "      self.assertLess(tempo_total, 600, f\"O processamento de todos os arquivos excedeu o limite de 600 segundos (10 minutos). Tempo total: {tempo_total:.2f} segundos.\")\n",
    "\n",
    "      # Mostrar o tempo total, mesmo que o teste passe\n",
    "      print(f\"Tempo total de processamento: {tempo_total:.2f} segundos\")\n",
    "\n",
    "    except FileNotFoundError:\n",
    "      self.fail(f\"Arquivo PDF não encontrado na pasta especificada: {self.pasta_pdf}\")\n",
    "    except Exception as e:\n",
    "      self.fail(f\"Erro inesperado durante o teste de processamento em massa: {str(e)}\")\n",
    "\n",
    "run_specific_test(TesteDesempenhoDeProcessamentoEmMassa)"
   ]
  }
 ],
 "metadata": {
  "kernelspec": {
   "display_name": ".venv",
   "language": "python",
   "name": "python3"
  },
  "language_info": {
   "codemirror_mode": {
    "name": "ipython",
    "version": 3
   },
   "file_extension": ".py",
   "mimetype": "text/x-python",
   "name": "python",
   "nbconvert_exporter": "python",
   "pygments_lexer": "ipython3",
   "version": "3.11.4"
  }
 },
 "nbformat": 4,
 "nbformat_minor": 2
}
