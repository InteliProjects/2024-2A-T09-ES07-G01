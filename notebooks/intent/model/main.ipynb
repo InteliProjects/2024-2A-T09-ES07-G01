{
 "cells": [
  {
   "cell_type": "markdown",
   "metadata": {},
   "source": [
    "### Importação e Download das Bibliotecas\n",
    "\n",
    "###### Importa as bibliotecas necessárias para processamento de texto, modelagem e extração dos parâmetros, incluindo o download do pacote de stopwords do NLTK."
   ]
  },
  {
   "cell_type": "code",
   "execution_count": 30,
   "metadata": {},
   "outputs": [
    {
     "name": "stderr",
     "output_type": "stream",
     "text": [
      "[nltk_data] Downloading package stopwords to\n",
      "[nltk_data]     C:\\Users\\Inteli\\AppData\\Roaming\\nltk_data...\n",
      "[nltk_data]   Package stopwords is already up-to-date!\n"
     ]
    }
   ],
   "source": [
    "from sklearn.feature_extraction.text import TfidfVectorizer\n",
    "from sklearn.model_selection import train_test_split\n",
    "from sklearn.metrics import classification_report\n",
    "from sklearn.naive_bayes import MultinomialNB\n",
    "from datetime import timedelta\n",
    "import pandas as pd\n",
    "import unicodedata\n",
    "import dateparser\n",
    "import pickle\n",
    "import string\n",
    "import nltk\n",
    "import re\n",
    "\n",
    "# Baixar stopwords em português\n",
    "nltk.download('stopwords')\n",
    "from nltk.corpus import stopwords"
   ]
  },
  {
   "cell_type": "code",
   "execution_count": 31,
   "metadata": {},
   "outputs": [],
   "source": [
    "# Definir as stopwords\n",
    "stop_words = set(stopwords.words('portuguese'))"
   ]
  },
  {
   "cell_type": "markdown",
   "metadata": {},
   "source": [
    "### Carregamento dos Dados\n",
    "\n",
    "###### Carrega o dataset de intenções a partir de um arquivo JSON, exibindo as primeiras linhas para verificação."
   ]
  },
  {
   "cell_type": "code",
   "execution_count": 32,
   "metadata": {},
   "outputs": [],
   "source": [
    "file_path = \"../../../data/processed/intents.json\"\n",
    "df = pd.read_json(file_path)"
   ]
  },
  {
   "cell_type": "code",
   "execution_count": 33,
   "metadata": {},
   "outputs": [
    {
     "data": {
      "text/html": [
       "<div>\n",
       "<style scoped>\n",
       "    .dataframe tbody tr th:only-of-type {\n",
       "        vertical-align: middle;\n",
       "    }\n",
       "\n",
       "    .dataframe tbody tr th {\n",
       "        vertical-align: top;\n",
       "    }\n",
       "\n",
       "    .dataframe thead th {\n",
       "        text-align: right;\n",
       "    }\n",
       "</style>\n",
       "<table border=\"1\" class=\"dataframe\">\n",
       "  <thead>\n",
       "    <tr style=\"text-align: right;\">\n",
       "      <th></th>\n",
       "      <th>id</th>\n",
       "      <th>intent</th>\n",
       "      <th>utterance</th>\n",
       "    </tr>\n",
       "  </thead>\n",
       "  <tbody>\n",
       "    <tr>\n",
       "      <th>0</th>\n",
       "      <td>1</td>\n",
       "      <td>consulta_normativa</td>\n",
       "      <td>Quais são as Instruções da CVM sobre Administr...</td>\n",
       "    </tr>\n",
       "    <tr>\n",
       "      <th>1</th>\n",
       "      <td>2</td>\n",
       "      <td>consulta_normativa</td>\n",
       "      <td>Gostaria de ver as Deliberações relacionadas a...</td>\n",
       "    </tr>\n",
       "    <tr>\n",
       "      <th>2</th>\n",
       "      <td>3</td>\n",
       "      <td>consulta_normativa</td>\n",
       "      <td>Existem Ofícios Circulares sobre Agentes Fiduc...</td>\n",
       "    </tr>\n",
       "    <tr>\n",
       "      <th>3</th>\n",
       "      <td>4</td>\n",
       "      <td>consulta_normativa</td>\n",
       "      <td>Quais são as Leis e Decretos que falam sobre A...</td>\n",
       "    </tr>\n",
       "    <tr>\n",
       "      <th>4</th>\n",
       "      <td>5</td>\n",
       "      <td>consulta_normativa</td>\n",
       "      <td>Há alguma Nota Explicativa sobre Analistas de ...</td>\n",
       "    </tr>\n",
       "  </tbody>\n",
       "</table>\n",
       "</div>"
      ],
      "text/plain": [
       "   id              intent                                          utterance\n",
       "0   1  consulta_normativa  Quais são as Instruções da CVM sobre Administr...\n",
       "1   2  consulta_normativa  Gostaria de ver as Deliberações relacionadas a...\n",
       "2   3  consulta_normativa  Existem Ofícios Circulares sobre Agentes Fiduc...\n",
       "3   4  consulta_normativa  Quais são as Leis e Decretos que falam sobre A...\n",
       "4   5  consulta_normativa  Há alguma Nota Explicativa sobre Analistas de ..."
      ]
     },
     "execution_count": 33,
     "metadata": {},
     "output_type": "execute_result"
    }
   ],
   "source": [
    "df.head()"
   ]
  },
  {
   "cell_type": "markdown",
   "metadata": {},
   "source": [
    "### Processamento dos Dados\n",
    "\n",
    "###### Realiza a limpeza e transformação do texto, removendo pontuações, acentuações e stopwords, para preparar os dados para a vetorização e modelagem."
   ]
  },
  {
   "cell_type": "code",
   "execution_count": 34,
   "metadata": {},
   "outputs": [],
   "source": [
    "# Função para pré-processar o texto: remove pontuações, stopwords e normaliza os caracteres.\n",
    "def preprocess_text(text):\n",
    "    # Converte para minúsculas\n",
    "    text = text.lower()\n",
    "   \n",
    "    # Remove pontuações\n",
    "    text = text.translate(str.maketrans('', '', string.punctuation))\n",
    "\n",
    "    # Remove espaços em branco extras\n",
    "    text = text.strip()\n",
    "\n",
    "    # Remove stopwords\n",
    "    filtered_words = filter(lambda word: word not in stop_words, text.split())\n",
    "    text = \" \".join(filtered_words)\n",
    "    \n",
    "    # Remove acentos\n",
    "    text = ''.join((c for c in unicodedata.normalize('NFD', text) if unicodedata.category(c) != 'Mn'))\n",
    "    \n",
    "    return text"
   ]
  },
  {
   "cell_type": "code",
   "execution_count": 35,
   "metadata": {},
   "outputs": [],
   "source": [
    "# Aplica o pré-processamento às entradas\n",
    "df['processed_utterance'] = df['utterance'].apply(preprocess_text)"
   ]
  },
  {
   "cell_type": "markdown",
   "metadata": {},
   "source": [
    "### Vetorização do Texto\n",
    "\n",
    "###### Converte o texto pré-processado em uma matriz de TF-IDF para ser usada como entrada no modelo de machine learning."
   ]
  },
  {
   "cell_type": "code",
   "execution_count": 36,
   "metadata": {},
   "outputs": [],
   "source": [
    "vectorizer = TfidfVectorizer()\n",
    "X = vectorizer.fit_transform(df['processed_utterance'])"
   ]
  },
  {
   "cell_type": "markdown",
   "metadata": {},
   "source": [
    "### Divisão dos Dados em Treino e Teste\n",
    "\n",
    "###### Divide os dados em conjuntos de treino e teste para a avaliação do modelo."
   ]
  },
  {
   "cell_type": "code",
   "execution_count": 37,
   "metadata": {},
   "outputs": [],
   "source": [
    "X_train, X_test, y_train, y_test = train_test_split(X, df['intent'], test_size=0.2, random_state=42)"
   ]
  },
  {
   "cell_type": "markdown",
   "metadata": {},
   "source": [
    "### Treinamento do Modelo\n",
    "\n",
    "###### Treina um modelo de Naive Bayes Multinomial usando os dados de treino."
   ]
  },
  {
   "cell_type": "code",
   "execution_count": 38,
   "metadata": {},
   "outputs": [
    {
     "data": {
      "text/html": [
       "<style>#sk-container-id-3 {color: black;}#sk-container-id-3 pre{padding: 0;}#sk-container-id-3 div.sk-toggleable {background-color: white;}#sk-container-id-3 label.sk-toggleable__label {cursor: pointer;display: block;width: 100%;margin-bottom: 0;padding: 0.3em;box-sizing: border-box;text-align: center;}#sk-container-id-3 label.sk-toggleable__label-arrow:before {content: \"▸\";float: left;margin-right: 0.25em;color: #696969;}#sk-container-id-3 label.sk-toggleable__label-arrow:hover:before {color: black;}#sk-container-id-3 div.sk-estimator:hover label.sk-toggleable__label-arrow:before {color: black;}#sk-container-id-3 div.sk-toggleable__content {max-height: 0;max-width: 0;overflow: hidden;text-align: left;background-color: #f0f8ff;}#sk-container-id-3 div.sk-toggleable__content pre {margin: 0.2em;color: black;border-radius: 0.25em;background-color: #f0f8ff;}#sk-container-id-3 input.sk-toggleable__control:checked~div.sk-toggleable__content {max-height: 200px;max-width: 100%;overflow: auto;}#sk-container-id-3 input.sk-toggleable__control:checked~label.sk-toggleable__label-arrow:before {content: \"▾\";}#sk-container-id-3 div.sk-estimator input.sk-toggleable__control:checked~label.sk-toggleable__label {background-color: #d4ebff;}#sk-container-id-3 div.sk-label input.sk-toggleable__control:checked~label.sk-toggleable__label {background-color: #d4ebff;}#sk-container-id-3 input.sk-hidden--visually {border: 0;clip: rect(1px 1px 1px 1px);clip: rect(1px, 1px, 1px, 1px);height: 1px;margin: -1px;overflow: hidden;padding: 0;position: absolute;width: 1px;}#sk-container-id-3 div.sk-estimator {font-family: monospace;background-color: #f0f8ff;border: 1px dotted black;border-radius: 0.25em;box-sizing: border-box;margin-bottom: 0.5em;}#sk-container-id-3 div.sk-estimator:hover {background-color: #d4ebff;}#sk-container-id-3 div.sk-parallel-item::after {content: \"\";width: 100%;border-bottom: 1px solid gray;flex-grow: 1;}#sk-container-id-3 div.sk-label:hover label.sk-toggleable__label {background-color: #d4ebff;}#sk-container-id-3 div.sk-serial::before {content: \"\";position: absolute;border-left: 1px solid gray;box-sizing: border-box;top: 0;bottom: 0;left: 50%;z-index: 0;}#sk-container-id-3 div.sk-serial {display: flex;flex-direction: column;align-items: center;background-color: white;padding-right: 0.2em;padding-left: 0.2em;position: relative;}#sk-container-id-3 div.sk-item {position: relative;z-index: 1;}#sk-container-id-3 div.sk-parallel {display: flex;align-items: stretch;justify-content: center;background-color: white;position: relative;}#sk-container-id-3 div.sk-item::before, #sk-container-id-3 div.sk-parallel-item::before {content: \"\";position: absolute;border-left: 1px solid gray;box-sizing: border-box;top: 0;bottom: 0;left: 50%;z-index: -1;}#sk-container-id-3 div.sk-parallel-item {display: flex;flex-direction: column;z-index: 1;position: relative;background-color: white;}#sk-container-id-3 div.sk-parallel-item:first-child::after {align-self: flex-end;width: 50%;}#sk-container-id-3 div.sk-parallel-item:last-child::after {align-self: flex-start;width: 50%;}#sk-container-id-3 div.sk-parallel-item:only-child::after {width: 0;}#sk-container-id-3 div.sk-dashed-wrapped {border: 1px dashed gray;margin: 0 0.4em 0.5em 0.4em;box-sizing: border-box;padding-bottom: 0.4em;background-color: white;}#sk-container-id-3 div.sk-label label {font-family: monospace;font-weight: bold;display: inline-block;line-height: 1.2em;}#sk-container-id-3 div.sk-label-container {text-align: center;}#sk-container-id-3 div.sk-container {/* jupyter's `normalize.less` sets `[hidden] { display: none; }` but bootstrap.min.css set `[hidden] { display: none !important; }` so we also need the `!important` here to be able to override the default hidden behavior on the sphinx rendered scikit-learn.org. See: https://github.com/scikit-learn/scikit-learn/issues/21755 */display: inline-block !important;position: relative;}#sk-container-id-3 div.sk-text-repr-fallback {display: none;}</style><div id=\"sk-container-id-3\" class=\"sk-top-container\"><div class=\"sk-text-repr-fallback\"><pre>MultinomialNB()</pre><b>In a Jupyter environment, please rerun this cell to show the HTML representation or trust the notebook. <br />On GitHub, the HTML representation is unable to render, please try loading this page with nbviewer.org.</b></div><div class=\"sk-container\" hidden><div class=\"sk-item\"><div class=\"sk-estimator sk-toggleable\"><input class=\"sk-toggleable__control sk-hidden--visually\" id=\"sk-estimator-id-3\" type=\"checkbox\" checked><label for=\"sk-estimator-id-3\" class=\"sk-toggleable__label sk-toggleable__label-arrow\">MultinomialNB</label><div class=\"sk-toggleable__content\"><pre>MultinomialNB()</pre></div></div></div></div></div>"
      ],
      "text/plain": [
       "MultinomialNB()"
      ]
     },
     "execution_count": 38,
     "metadata": {},
     "output_type": "execute_result"
    }
   ],
   "source": [
    "model = MultinomialNB()\n",
    "model.fit(X_train, y_train)"
   ]
  },
  {
   "cell_type": "markdown",
   "metadata": {},
   "source": [
    "### Predição e Avaliação\n",
    "\n",
    "###### Realiza predições no conjunto de teste e avalia a performance do modelo usando métricas de classificação."
   ]
  },
  {
   "cell_type": "code",
   "execution_count": 39,
   "metadata": {},
   "outputs": [
    {
     "name": "stdout",
     "output_type": "stream",
     "text": [
      "                    precision    recall  f1-score   support\n",
      "\n",
      "consulta_normativa       1.00      1.00      1.00        21\n",
      "            outros       1.00      1.00      1.00        19\n",
      "\n",
      "          accuracy                           1.00        40\n",
      "         macro avg       1.00      1.00      1.00        40\n",
      "      weighted avg       1.00      1.00      1.00        40\n",
      "\n"
     ]
    }
   ],
   "source": [
    "y_pred = model.predict(X_test)\n",
    "print(classification_report(y_test, y_pred))"
   ]
  },
  {
   "cell_type": "markdown",
   "metadata": {},
   "source": [
    "### Mapeamento de Tags\n",
    "\n",
    "###### Cria um dicionário para converter as tags identificadas no texto pré-processado para seus nomes corretamente formatados"
   ]
  },
  {
   "cell_type": "code",
   "execution_count": 40,
   "metadata": {},
   "outputs": [],
   "source": [
    "tag_mapping = {\n",
    "    'administradores carteiras': 'Administradores de Carteiras',\n",
    "    'agencias classificacao risco credito': 'Agências de Classificação de Risco de Crédito',\n",
    "    'agentes fiduciarios': 'Agentes Fiduciários',\n",
    "    'alerta': 'Alerta',\n",
    "    'analistas valores mobiliarios': 'Analistas de Valores Mobiliários',\n",
    "    'assessores investimento': 'Assessores de Investimento',\n",
    "    'ato declaratorio': 'Ato Declaratório',\n",
    "    'atuacao irregular': 'Atuação Irregular',\n",
    "    'audiencia publica': 'Audiência Pública',\n",
    "    'auditor independente': 'Auditor Independente',\n",
    "    'bdr': 'BDR',\n",
    "    'cadastro participantes regulados': 'Cadastro de Participantes Regulados',\n",
    "    'clubes investimento': 'Clubes de Investimento',\n",
    "    'companhia': 'Companhia',\n",
    "    'comunicado mercado': 'Comunicado ao Mercado',\n",
    "    'concurso premio': 'Concurso/Prêmio',\n",
    "    'consultores valores mobiliarios': 'Consultores de Valores Mobiliários',\n",
    "    'convenio': 'Convênio',\n",
    "    'coronavirus': 'Coronavirus',\n",
    "    'corretora': 'Corretora',\n",
    "    'crowdfunding': 'Crowdfunding',\n",
    "    'decisao colegiado': 'Decisão do Colegiado',\n",
    "    'deliberacao': 'Deliberação',\n",
    "    'educacao financeira': 'Educação Financeira',\n",
    "    'evento': 'Evento',\n",
    "    'fundos investimento': 'Fundos de Investimento',\n",
    "    'fundos investimento direitos creditorios': 'Fundos de Investimento em Direitos Creditórios',\n",
    "    'fundos investimento participacoes': 'Fundos de Investimento em Participações',\n",
    "    'fundos investimento imobiliarios': 'Fundos de Investimento Imobiliários',\n",
    "    'gestao institucional': 'Gestão Institucional',\n",
    "    'indenizacao': 'Indenização',\n",
    "    'infraestrutura mercado': 'Infraestrutura do Mercado',\n",
    "    'insider trading': 'Insider Trading',\n",
    "    'intermediarios': 'Intermediários',\n",
    "    'investidores nao residentes': 'Investidores Nao Residentes',\n",
    "    'julgamento': 'Julgamento',\n",
    "    'julgamento insider': 'Julgamento_Insider',\n",
    "    'mercados organizados': 'Mercados Organizados',\n",
    "    'normas contabeis': 'Normas Contábeis',\n",
    "    'nota': 'Nota',\n",
    "    'ofertas publicas': 'Ofertas Publicas',\n",
    "    'oficio circular': 'Ofício Circular',\n",
    "    'ouvidoria': 'Ouvidoria',\n",
    "    'parecer orientacao': 'Parecer de Orientação',\n",
    "    'pesquisa': 'Pesquisa',\n",
    "    'planejamento estrategico': 'Planejamento Estratégico',\n",
    "    'pld ftp': 'PLD/FTP',\n",
    "    'processo eletronico': 'Processo Eletrônico',\n",
    "    'protocolo digital': 'Protocolo Digital',\n",
    "    'publicacao': 'Publicação',\n",
    "    'ritos cvm': 'Ritos CVM',\n",
    "    'sandbox regulatorio': 'Sandbox Regulatório',\n",
    "    'securitizadoras': 'Securitizadoras',\n",
    "    'sistema governanca gestao cvm': 'Sistema de governança e gestão da CVM',\n",
    "    'suitability': 'Suitability',\n",
    "    'suspensao': 'Suspensão',\n",
    "    'tecnologia informacao': 'Tecnologia da Informação',\n",
    "    'termo compromisso': 'Termo de Compromisso',\n",
    "    'termo compromisso insider': 'Termo_Compromisso_Insider'\n",
    "}"
   ]
  },
  {
   "cell_type": "markdown",
   "metadata": {},
   "source": [
    "### Extração de Datas\n",
    "\n",
    "###### Define uma função para identificar e extrair datas mencionadas no texto. A função lida com intervalos de datas, datas absolutas e expressões temporais relativas."
   ]
  },
  {
   "cell_type": "code",
   "execution_count": 41,
   "metadata": {},
   "outputs": [],
   "source": [
    "def extract_dates(text):\n",
    "    \n",
    "    # Converte o texto para minúsculas e corrige palavras que podem estar sem acentuação\n",
    "    text = text.lower()\n",
    "    text = text.replace('mes', 'mês').replace('ate', 'até')\n",
    "\n",
    "    extracted_dates = []\n",
    "\n",
    "    # Verifica se o texto contém intervalos de datas nos formatos \"de DD/MM/AAAA até DD/MM/AAAA\" ou \"entre DD/MM/AAAA e DD/MM/AAAA\"\n",
    "    interval_match = re.search(r'de (\\d{1,2}/\\d{1,2}/\\d{2,4}) até (\\d{1,2}/\\d{1,2}/\\d{2,4})', text, re.IGNORECASE) or \\\n",
    "                     re.search(r'entre (\\d{1,2}/\\d{1,2}/\\d{2,4}) e (\\d{1,2}/\\d{1,2}/\\d{2,4})', text, re.IGNORECASE)\n",
    "    \n",
    "\n",
    "    if interval_match:\n",
    "        # Se um intervalo for encontrado, extrai as duas datas, processa e converte para o formato 'YYYY-MM-DD'\n",
    "        start_date_str, end_date_str = interval_match.groups()\n",
    "        start_date = dateparser.parse(start_date_str, languages=['pt'])\n",
    "        end_date = dateparser.parse(end_date_str, languages=['pt'])\n",
    "        extracted_dates.append((start_date.strftime('%Y-%m-%d'), end_date.strftime('%Y-%m-%d')))\n",
    "    \n",
    "    else:\n",
    "        # Se não há intervalo, a função procura por datas individuais ou expressões de tempo relativas\n",
    "        date_matches = re.findall(\n",
    "            r'\\b(?:\\d{1,2}/\\d{1,2}/\\d{2,4}|\\d{1,2} de \\w+ de \\d{4}|hoje|ontem|anteontem|semana passada|mês passado|ano passado|há \\d+ (?:dias|semanas|meses|anos))\\b',\n",
    "            text, re.IGNORECASE\n",
    "        )\n",
    "\n",
    "        for date_str in date_matches:\n",
    "            parsed_date = dateparser.parse(date_str, languages=['pt'])\n",
    "\n",
    "            if parsed_date:\n",
    "                # Para expressões de tempo relativas, calcula o intervalo de datas correspondente\n",
    "                if \"semana passada\" in date_str.lower():\n",
    "                    start_of_week = parsed_date - timedelta(days=parsed_date.weekday() + 1)\n",
    "                    end_of_week = start_of_week + timedelta(days=6) \n",
    "                    extracted_dates.append((start_of_week.strftime('%Y-%m-%d'), end_of_week.strftime('%Y-%m-%d')))\n",
    "                \n",
    "                elif \"mês passado\" in date_str.lower():\n",
    "                    start_of_month = parsed_date.replace(day=1)\n",
    "                    end_of_month = (parsed_date.replace(day=1) + timedelta(days=32)).replace(day=1) - timedelta(days=1)\n",
    "                    extracted_dates.append((start_of_month.strftime('%Y-%m-%d'), end_of_month.strftime('%Y-%m-%d')))\n",
    "                \n",
    "                elif \"ano passado\" in date_str.lower():\n",
    "                    start_of_year = parsed_date.replace(month=1, day=1)\n",
    "                    end_of_year = parsed_date.replace(month=12, day=31)\n",
    "                    extracted_dates.append((start_of_year.strftime('%Y-%m-%d'), end_of_year.strftime('%Y-%m-%d')))\n",
    "                \n",
    "                else:\n",
    "                    # Para datas absolutas ou outras expressões relativas que não representam intervalos, converte a data para o formato padrão\n",
    "                    extracted_dates.append(parsed_date.strftime('%Y-%m-%d'))\n",
    "\n",
    "    # Retorna uma lista de datas ou intervalos de datas encontrados, no formato 'YYYY-MM-DD'\n",
    "    return extracted_dates if extracted_dates else None"
   ]
  },
  {
   "cell_type": "markdown",
   "metadata": {},
   "source": [
    "### Extração de Parâmetros\n",
    "\n",
    "###### Define uma função que extrai informações estruturadas, como tipo de documento, tags, órgão regulador e datas, a partir do texto processado. A função utiliza expressões regulares para identificar padrões específicos dentro do texto."
   ]
  },
  {
   "cell_type": "code",
   "execution_count": 42,
   "metadata": {},
   "outputs": [],
   "source": [
    "def extract_parameters(utterance, processed_utterance):\n",
    "    # Expressões regulares para identificar tipos de documentos, tags e órgão regulador.\n",
    "    document_type_regex = r'(instrucoes|pareceres orientacao|deliberacoes|decisoes conjuntas|oficios circulares|leis decretos|notas explicativas)'\n",
    "    tags_regex = r'(administradores carteiras|agencias classificacao risco credito|agentes fiduciarios|alerta|analistas valores mobiliarios|assessores investimento|ato declaratorio|atuacao irregular|audiencia publica|auditor independente|bdr|cadastro participantes regulados|clubes investimento|companhia|comunicado mercado|concurso premio|consultores valores mobiliarios|convenio|coronavirus|corretora|crowdfunding|decisao colegiado|deliberacao|educacao financeira|evento|fundos investimento|fundos investimento direitos creditorios|fundos investimento participacoes|fundos investimento imobiliarios|gestao institucional|indenizacao|infraestrutura mercado|insider trading|intermediarios|investidores nao residentes|julgamento|julgamento insider|mercados organizados|normas contabeis|nota|ofertas publicas|oficio circular|ouvidoria|parecer orientacao|pesquisa|planejamento estrategico|pld ftp|processo eletronico|protocolo digital|publicacao|ritos cvm|sandbox regulatorio|securitizadoras|sistema governanca gestao cvm|suitability|suspensao|tecnologia informacao|termo compromisso|termo compromisso insider)'\n",
    "    entity_regex = r'cvm'\n",
    "\n",
    "    # Realiza a busca no texto processado para identificar o tipo de documento, tags e órgão regulador.\n",
    "    document_type = re.search(document_type_regex, processed_utterance)\n",
    "    tags = re.search(tags_regex, processed_utterance)\n",
    "    entity = re.search(entity_regex, processed_utterance)\n",
    "\n",
    "    # Extrai as datas do texto sem processamento\n",
    "    dates = extract_dates(utterance)\n",
    "\n",
    "    # Mapeia as tags para os nomes corretamente formatados\n",
    "    if tags:\n",
    "        tags = tag_mapping.get(tags.group(0), tags.group(0))\n",
    "\n",
    "    # Retorna os parâmetros extraídos em um dicionário estruturado\n",
    "    return {\n",
    "        'document_type': document_type.group(0) if document_type else None,\n",
    "        'tags': tags if tags else None,\n",
    "        'entity': entity.group(0) if entity else None,\n",
    "        'dates': dates if dates else None\n",
    "    }"
   ]
  },
  {
   "cell_type": "markdown",
   "metadata": {},
   "source": [
    "### Predição e Extração de Parâmetros\n",
    "\n",
    "###### Define uma função que processa uma entrada, realiza a predição da intenção usando o modelo treinado e, se aplicável, extrai parâmetros adicionais a partir do texto."
   ]
  },
  {
   "cell_type": "code",
   "execution_count": 43,
   "metadata": {},
   "outputs": [],
   "source": [
    "def predict_and_extract(utterance, model, vectorizer):\n",
    "    # Pré-processa a entrada para garantir que o texto esteja no formato adequado para o modelo\n",
    "    processed_utterance = preprocess_text(utterance)\n",
    "\n",
    "    # Converte o texto pré-processado em uma matriz vetorial TF-IDF\n",
    "    vectorized_utterance = vectorizer.transform([processed_utterance])\n",
    "\n",
    "    # Utiliza o modelo treinado para prever a intenção da entrada\n",
    "    prediction = model.predict(vectorized_utterance)[0]\n",
    "    \n",
    "    # Se a intenção for \"consulta_normativa\", extrai parâmetros adicionais\n",
    "    if prediction == \"consulta_normativa\":\n",
    "        parameters = extract_parameters(utterance, processed_utterance)\n",
    "        print(f\"Intenção: {prediction}\")\n",
    "        print(f\"Parâmetros Extraídos: {parameters}\")\n",
    "    else:\n",
    "        # Se a intenção não for relevante para o escopo do projeto, apenas imprime a intenção prevista\n",
    "        print(f\"Intenção: {prediction} (fora do escopo do projeto)\")"
   ]
  },
  {
   "cell_type": "markdown",
   "metadata": {},
   "source": [
    "### Exportação do Modelo\n",
    "\n",
    "###### Salva o modelo treinado e o vetorizador TF-IDF em arquivos para reutilização futura.\n"
   ]
  },
  {
   "cell_type": "code",
   "execution_count": 44,
   "metadata": {},
   "outputs": [],
   "source": [
    "# Salva o modelo\n",
    "with open('model.pkl', 'wb') as model_file:\n",
    "    pickle.dump(model, model_file)\n",
    "\n",
    "# Salva o vetor TF-IDF\n",
    "with open('vectorizer.pkl', 'wb') as vectorizer_file:\n",
    "    pickle.dump(vectorizer, vectorizer_file)"
   ]
  }
 ],
 "metadata": {
  "kernelspec": {
   "display_name": "Python 3",
   "language": "python",
   "name": "python3"
  },
  "language_info": {
   "codemirror_mode": {
    "name": "ipython",
    "version": 3
   },
   "file_extension": ".py",
   "mimetype": "text/x-python",
   "name": "python",
   "nbconvert_exporter": "python",
   "pygments_lexer": "ipython3",
   "version": "3.11.3"
  }
 },
 "nbformat": 4,
 "nbformat_minor": 2
}
